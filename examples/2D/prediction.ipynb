{
 "cells": [
  {
   "cell_type": "code",
   "execution_count": 1,
   "id": "3b497639",
   "metadata": {},
   "outputs": [],
   "source": [
    "%load_ext autoreload\n",
    "%autoreload 2"
   ]
  },
  {
   "cell_type": "code",
   "execution_count": 2,
   "id": "fe54f43c",
   "metadata": {},
   "outputs": [],
   "source": [
    "### Adding root directory to sys.path (list of directories python look in for packages and modules)\n",
    "import sys, os\n",
    "\n",
    "root_dir = os.path.abspath(\"../..\")\n",
    "sys.path.append( root_dir )"
   ]
  },
  {
   "cell_type": "code",
   "execution_count": 4,
   "id": "ce06269e",
   "metadata": {},
   "outputs": [],
   "source": [
    "import time\n",
    "from pathlib import Path\n",
    "\n",
    "from tqdm import tqdm\n",
    "\n",
    "import numpy as np\n",
    "import pandas as pd\n",
    "import matplotlib.pyplot as plt\n",
    "\n",
    "\n",
    "import torch\n",
    "\n",
    "\n",
    "from stardist_tools import calculate_extents, Rays_GoldenSpiral#, random_label_cmap, relabel_image_stardist3D\n",
    "from stardist_tools.matching import matching, matching_dataset\n",
    "\n",
    "\n",
    "from src.training import train\n",
    "\n",
    "from src.data.utils import load_tif, save_tif\n",
    "\n",
    "from utils import seed_all, prepare_conf, plot_img_label\n",
    "\n",
    "from stardist_tools.csbdeep_utils import normalize\n",
    "from src.models.config import ConfigBase, Config2D\n",
    "from src.models.stardist2d import StarDist2D"
   ]
  },
  {
   "cell_type": "code",
   "execution_count": null,
   "id": "cca84b1e",
   "metadata": {},
   "outputs": [],
   "source": []
  },
  {
   "cell_type": "markdown",
   "id": "d5f66d41",
   "metadata": {},
   "source": [
    "### Data"
   ]
  },
  {
   "cell_type": "code",
   "execution_count": 5,
   "id": "d08ef608",
   "metadata": {},
   "outputs": [
    {
     "data": {
      "text/plain": [
       "50"
      ]
     },
     "execution_count": 5,
     "metadata": {},
     "output_type": "execute_result"
    }
   ],
   "source": [
    "image_dir = r\"datasets\\dsb2018/test/images\"\n",
    "\n",
    "image_paths = list( Path(image_dir).glob(\"*.tif\") )\n",
    "len(image_paths)"
   ]
  },
  {
   "cell_type": "code",
   "execution_count": 6,
   "id": "349cd5ed",
   "metadata": {},
   "outputs": [
    {
     "data": {
      "text/plain": [
       "(256, 256)"
      ]
     },
     "execution_count": 6,
     "metadata": {},
     "output_type": "execute_result"
    }
   ],
   "source": [
    "x = load_tif(image_paths[0])\n",
    "x.shape"
   ]
  },
  {
   "cell_type": "code",
   "execution_count": 7,
   "id": "a1562f55",
   "metadata": {},
   "outputs": [
    {
     "name": "stdout",
     "output_type": "stream",
     "text": [
      "Normalizing image channels independently.\n"
     ]
    }
   ],
   "source": [
    "n_channel = 1 if x.ndim == 3 else x.shape[-1]\n",
    "\n",
    "axis_norm = axis_norm = (-1, -2) # # normalize channels independently\n",
    "#axis_norm = axis_norm = (-1, -2, -3) # # normalize channels jointly\n",
    "if n_channel > 1:\n",
    "    print(\"Normalizing image channels %s.\" % ('jointly' if axis_norm is None or -3 in axis_norm else 'independently'))"
   ]
  },
  {
   "cell_type": "code",
   "execution_count": 8,
   "id": "133c3b68",
   "metadata": {},
   "outputs": [],
   "source": [
    "#list( Path(r\"./checkpoints/dsb2018\").glob('*') )"
   ]
  },
  {
   "cell_type": "code",
   "execution_count": null,
   "id": "bf8f7ccc",
   "metadata": {},
   "outputs": [],
   "source": []
  },
  {
   "cell_type": "markdown",
   "id": "fcc07ba8",
   "metadata": {},
   "source": [
    "### Load trained model"
   ]
  },
  {
   "cell_type": "code",
   "execution_count": 9,
   "id": "28e7a535",
   "metadata": {},
   "outputs": [
    {
     "name": "stdout",
     "output_type": "stream",
     "text": [
      "Load path: checkpoints\\dsb2018\\best.pth cuda:0\n",
      "Loading threholds ...\n",
      "Instanciating network\n",
      "initialize network with normal\n",
      "Network [StarDistResnet] was created. Total number of parameters: 0.5 million. To see the architecture, do print(network).\n",
      "<All keys matched successfully>\n",
      "Loading model from <checkpoints\\dsb2018\\best.pth>.\n",
      "\n"
     ]
    }
   ],
   "source": [
    "conf = Config2D(\n",
    "    name                           = 'dsb2018',\n",
    "    use_gpu                        = True if torch.cuda.is_available() else None,\n",
    "    use_amp                        = True,\n",
    "    isTrain                        = False ,\n",
    "    load_epoch                     = \"best\",\n",
    ")\n",
    "\n",
    "model = StarDist2D(conf)"
   ]
  },
  {
   "cell_type": "code",
   "execution_count": 10,
   "id": "03553836",
   "metadata": {},
   "outputs": [
    {
     "data": {
      "text/plain": [
       "(10, {'prob': 0.48855887404256104, 'nms': 0.3})"
      ]
     },
     "execution_count": 10,
     "metadata": {},
     "output_type": "execute_result"
    }
   ],
   "source": [
    "model.opt.epoch_count, model.thresholds"
   ]
  },
  {
   "cell_type": "code",
   "execution_count": null,
   "id": "b6cdac23",
   "metadata": {},
   "outputs": [],
   "source": []
  },
  {
   "cell_type": "code",
   "execution_count": null,
   "id": "c4f22dbe",
   "metadata": {},
   "outputs": [],
   "source": []
  },
  {
   "cell_type": "markdown",
   "id": "ee2c75bd",
   "metadata": {},
   "source": [
    "### Prediction"
   ]
  },
  {
   "cell_type": "code",
   "execution_count": 11,
   "id": "b57120b2",
   "metadata": {},
   "outputs": [
    {
     "name": "stdout",
     "output_type": "stream",
     "text": [
      "Predictions will be saved at:  datasets\\dsb2018\\test\\images\\predictions\\model_dsb2018_epoch_best_per_patch\n"
     ]
    }
   ],
   "source": [
    "dest_dir = Path(image_dir) / f\"predictions/model_{model.opt.name}_epoch_{conf.load_epoch}\" #f\"results/{model.opt.name}_{conf.load_epoch}/\"\n",
    "\n",
    "dest_dir = Path(dest_dir)\n",
    "os.makedirs(dest_dir, exist_ok=True)\n",
    "\n",
    "print(\"Predictions will be saved at: \", dest_dir)"
   ]
  },
  {
   "cell_type": "code",
   "execution_count": null,
   "id": "6fa81a7f",
   "metadata": {},
   "outputs": [],
   "source": []
  },
  {
   "cell_type": "code",
   "execution_count": 12,
   "id": "64dd2078",
   "metadata": {},
   "outputs": [
    {
     "name": "stderr",
     "output_type": "stream",
     "text": [
      "100%|██████████████████████████████████████████████████████████████████████████████████| 50/50 [00:07<00:00,  6.87it/s]\n"
     ]
    }
   ],
   "source": [
    "for image_path in tqdm(image_paths):\n",
    "    image = load_tif(image_path).squeeze()\n",
    "    if image.ndim==2:\n",
    "        image = image[np.newaxis]\n",
    "    \n",
    "    image = normalize(image, 1,99.8,axis=axis_norm)\n",
    "    \n",
    "    pred_mask = model.predict_instance(image)[0]\n",
    "    mask_path = dest_dir / f\"{image_path.name}\"\n",
    "    \n",
    "    save_tif(mask_path, pred_mask)"
   ]
  }
 ],
 "metadata": {
  "kernelspec": {
   "display_name": "Python 3 (ipykernel)",
   "language": "python",
   "name": "python3"
  },
  "language_info": {
   "codemirror_mode": {
    "name": "ipython",
    "version": 3
   },
   "file_extension": ".py",
   "mimetype": "text/x-python",
   "name": "python",
   "nbconvert_exporter": "python",
   "pygments_lexer": "ipython3",
   "version": "3.7.9"
  }
 },
 "nbformat": 4,
 "nbformat_minor": 5
}
